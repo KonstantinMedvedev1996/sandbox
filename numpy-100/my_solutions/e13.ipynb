{
 "cells": [
  {
   "cell_type": "code",
   "execution_count": 1,
   "metadata": {},
   "outputs": [],
   "source": [
    "import numpy as np"
   ]
  },
  {
   "cell_type": "code",
   "execution_count": 2,
   "metadata": {},
   "outputs": [],
   "source": [
    "a = np.random.randint(1,101,size=(10,10))"
   ]
  },
  {
   "cell_type": "code",
   "execution_count": 3,
   "metadata": {},
   "outputs": [
    {
     "data": {
      "text/plain": [
       "array([[ 36,  60,  48,  21,  57,  19,  53,  85,  19,  41],\n",
       "       [ 99,  46,  20,  41,  66,  95,   3,  56,   3,  54],\n",
       "       [  7,  77,   7,  55,  55,  15,  78,  83,  87,  59],\n",
       "       [ 89,  78,  68,  78,  58,  39,  30,  82,  22,  38],\n",
       "       [ 53,  28,  30,  35,   2,  64,  50,  84,  79,   1],\n",
       "       [ 75,  18,  10,  10,   3,  73,  70,  99,  30,  34],\n",
       "       [ 51,  89,  70,  31,  27,  23,  75,  37,  95,  99],\n",
       "       [ 20,  75,  80,  67,  34,  79,  48,  62,  98,  98],\n",
       "       [ 23,  68,  81,  47,   1,  77,  88,  59,  63,  39],\n",
       "       [ 18,  60,  79,  57, 100,  50,  57,  34,  24,  11]])"
      ]
     },
     "execution_count": 3,
     "metadata": {},
     "output_type": "execute_result"
    }
   ],
   "source": [
    "a"
   ]
  },
  {
   "cell_type": "code",
   "execution_count": 4,
   "metadata": {},
   "outputs": [
    {
     "data": {
      "text/plain": [
       "1"
      ]
     },
     "execution_count": 4,
     "metadata": {},
     "output_type": "execute_result"
    }
   ],
   "source": [
    "arr2d_min = np.amin(a)\n",
    "arr2d_min"
   ]
  },
  {
   "cell_type": "code",
   "execution_count": 5,
   "metadata": {},
   "outputs": [
    {
     "data": {
      "text/plain": [
       "100"
      ]
     },
     "execution_count": 5,
     "metadata": {},
     "output_type": "execute_result"
    }
   ],
   "source": [
    "arr2d_max = np.amax(a)\n",
    "arr2d_max"
   ]
  },
  {
   "cell_type": "code",
   "execution_count": 6,
   "metadata": {},
   "outputs": [],
   "source": [
    "# result = numpy.where(arr2D == numpy.amin(arr2D))"
   ]
  },
  {
   "cell_type": "code",
   "execution_count": 7,
   "metadata": {},
   "outputs": [
    {
     "data": {
      "text/plain": [
       "(array([4, 8], dtype=int64), array([9, 4], dtype=int64))"
      ]
     },
     "execution_count": 7,
     "metadata": {},
     "output_type": "execute_result"
    }
   ],
   "source": [
    "index_min = np.where(a == np.amin(a))\n",
    "index_min"
   ]
  },
  {
   "cell_type": "code",
   "execution_count": 8,
   "metadata": {},
   "outputs": [
    {
     "name": "stdout",
     "output_type": "stream",
     "text": [
      "[[0.43665359 0.80421814 0.27758172 0.79406132 0.66598969 0.61784471\n",
      "  0.22926299 0.50400594 0.16344648 0.00965334]\n",
      " [0.50429141 0.54450644 0.08475535 0.70229748 0.84756837 0.97716461\n",
      "  0.66755562 0.53112176 0.65834154 0.48981613]\n",
      " [0.06780514 0.52799024 0.53440272 0.18989064 0.01254679 0.32391241\n",
      "  0.56477501 0.63593724 0.07511251 0.57891978]\n",
      " [0.72871848 0.94548307 0.81840067 0.48998088 0.3787282  0.76064231\n",
      "  0.52898209 0.3910019  0.51229695 0.88619371]\n",
      " [0.26340632 0.68984543 0.75687492 0.54988119 0.94269721 0.30863045\n",
      "  0.88324923 0.66060083 0.85718121 0.50887612]\n",
      " [0.34291109 0.36549855 0.18970596 0.72526483 0.92656412 0.64279192\n",
      "  0.76210093 0.39238091 0.87684612 0.8574387 ]\n",
      " [0.33642879 0.27404872 0.46134799 0.09150567 0.31845358 0.94479835\n",
      "  0.40912099 0.97351157 0.56978262 0.38007619]\n",
      " [0.7482711  0.05789577 0.81839415 0.19557149 0.03805199 0.73789905\n",
      "  0.07576465 0.32303179 0.57504441 0.10412545]\n",
      " [0.6014848  0.24577538 0.11242562 0.47221945 0.17381165 0.86000428\n",
      "  0.18924355 0.81853949 0.9975673  0.25106307]\n",
      " [0.78248378 0.3932088  0.67203671 0.6484424  0.48615279 0.75376858\n",
      "  0.91349821 0.56836038 0.5004093  0.86768088]]\n",
      "0.009653335618999725 0.9975672972073957\n"
     ]
    }
   ],
   "source": [
    "Z = np.random.random((10,10))\n",
    "Zmin, Zmax = Z.min(), Z.max()\n",
    "print(Z)\n",
    "print(Zmin, Zmax)\n"
   ]
  }
 ],
 "metadata": {
  "kernelspec": {
   "display_name": ".numpy",
   "language": "python",
   "name": "python3"
  },
  "language_info": {
   "codemirror_mode": {
    "name": "ipython",
    "version": 3
   },
   "file_extension": ".py",
   "mimetype": "text/x-python",
   "name": "python",
   "nbconvert_exporter": "python",
   "pygments_lexer": "ipython3",
   "version": "3.10.5"
  },
  "orig_nbformat": 4
 },
 "nbformat": 4,
 "nbformat_minor": 2
}
