{
 "cells": [
  {
   "cell_type": "code",
   "execution_count": 2,
   "metadata": {},
   "outputs": [],
   "source": [
    "import numpy as np"
   ]
  },
  {
   "cell_type": "code",
   "execution_count": 3,
   "metadata": {},
   "outputs": [],
   "source": [
    "a = np.random.randint(1,101,size=(10,10))"
   ]
  },
  {
   "cell_type": "code",
   "execution_count": 4,
   "metadata": {},
   "outputs": [
    {
     "data": {
      "text/plain": [
       "array([[100,  26,  67,   9,  24,  69,  85,  56,  74,  31],\n",
       "       [ 59,  63,  73,  73,  25,  60,  72,  73,  80,  62],\n",
       "       [ 65,  75, 100,  52,  29,  74,  71,  43,   2,  62],\n",
       "       [ 58,  23,  20,  80,  16,  81,  76,  82,  93,  19],\n",
       "       [ 22,  51,  78,  99,  80,   2,  76,  67,  17,  50],\n",
       "       [100,  58,  46,  39,  62,  35,  19,   4,  44,   5],\n",
       "       [ 11,  49,  42,  52,  42,   1,  58,  94,   6,   6],\n",
       "       [ 47,  37,  87,  19,  19,  42,  69,  88,  30,  85],\n",
       "       [ 72,  60,  42,  80,  56,  79,  53,  71,  39,  44],\n",
       "       [ 15,  80,  12,  13,  14,  63,  85,  46,  50,  62]])"
      ]
     },
     "execution_count": 4,
     "metadata": {},
     "output_type": "execute_result"
    }
   ],
   "source": [
    "a"
   ]
  },
  {
   "cell_type": "code",
   "execution_count": 5,
   "metadata": {},
   "outputs": [
    {
     "data": {
      "text/plain": [
       "1"
      ]
     },
     "execution_count": 5,
     "metadata": {},
     "output_type": "execute_result"
    }
   ],
   "source": [
    "arr2d_min = np.amin(a)\n",
    "arr2d_min"
   ]
  },
  {
   "cell_type": "code",
   "execution_count": 6,
   "metadata": {},
   "outputs": [
    {
     "data": {
      "text/plain": [
       "100"
      ]
     },
     "execution_count": 6,
     "metadata": {},
     "output_type": "execute_result"
    }
   ],
   "source": [
    "arr2d_max = np.amax(a)\n",
    "arr2d_max"
   ]
  },
  {
   "cell_type": "code",
   "execution_count": null,
   "metadata": {},
   "outputs": [],
   "source": [
    "# result = numpy.where(arr2D == numpy.amin(arr2D))"
   ]
  },
  {
   "cell_type": "code",
   "execution_count": 7,
   "metadata": {},
   "outputs": [
    {
     "data": {
      "text/plain": [
       "(array([6], dtype=int64), array([5], dtype=int64))"
      ]
     },
     "execution_count": 7,
     "metadata": {},
     "output_type": "execute_result"
    }
   ],
   "source": [
    "index_min = np.where(a == np.amin(a))\n",
    "index_min"
   ]
  }
 ],
 "metadata": {
  "kernelspec": {
   "display_name": ".numpy",
   "language": "python",
   "name": "python3"
  },
  "language_info": {
   "codemirror_mode": {
    "name": "ipython",
    "version": 3
   },
   "file_extension": ".py",
   "mimetype": "text/x-python",
   "name": "python",
   "nbconvert_exporter": "python",
   "pygments_lexer": "ipython3",
   "version": "3.10.5"
  },
  "orig_nbformat": 4
 },
 "nbformat": 4,
 "nbformat_minor": 2
}
