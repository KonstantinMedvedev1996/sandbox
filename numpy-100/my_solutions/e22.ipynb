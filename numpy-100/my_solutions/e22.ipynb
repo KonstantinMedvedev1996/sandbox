{
 "cells": [
  {
   "cell_type": "code",
   "execution_count": 1,
   "metadata": {},
   "outputs": [],
   "source": [
    "# 22. Normalize a 5x5 random matrix (★☆☆)\n",
    "\n",
    "import numpy as np\n"
   ]
  },
  {
   "cell_type": "code",
   "execution_count": 7,
   "metadata": {},
   "outputs": [],
   "source": [
    "a = np.random.rand(5,5)"
   ]
  },
  {
   "cell_type": "code",
   "execution_count": 8,
   "metadata": {},
   "outputs": [
    {
     "data": {
      "text/plain": [
       "array([[0.20212215, 0.59229377, 0.17264362, 0.18491405, 0.99823544],\n",
       "       [0.37721619, 0.20725037, 0.93944035, 0.49500975, 0.18394537],\n",
       "       [0.74658891, 0.28432468, 0.94872337, 0.90459187, 0.92554885],\n",
       "       [0.48570343, 0.15822283, 0.24525323, 0.22782233, 0.16578653],\n",
       "       [0.28206453, 0.99483171, 0.84625199, 0.03768369, 0.69409499]])"
      ]
     },
     "execution_count": 8,
     "metadata": {},
     "output_type": "execute_result"
    }
   ],
   "source": [
    "a"
   ]
  },
  {
   "cell_type": "code",
   "execution_count": 10,
   "metadata": {},
   "outputs": [
    {
     "name": "stdout",
     "output_type": "stream",
     "text": [
      "Original Array:\n",
      "[[0.34802937 0.38379536 0.27897188 0.14187634 0.86984994]\n",
      " [0.17562563 0.96591548 0.61076247 0.12615624 0.53298635]\n",
      " [0.57308958 0.91947268 0.59361382 0.87377734 0.30965073]\n",
      " [0.13597463 0.33122856 0.88032206 0.75003953 0.74605815]\n",
      " [0.07252037 0.36393104 0.12150848 0.41420758 0.59309556]]\n"
     ]
    }
   ],
   "source": [
    "df= np.random.random((5,5))\n",
    "print(\"Original Array:\")\n",
    "print(df)"
   ]
  },
  {
   "cell_type": "code",
   "execution_count": 11,
   "metadata": {},
   "outputs": [
    {
     "name": "stdout",
     "output_type": "stream",
     "text": [
      "[[0.30838428 0.34841806 0.23108646 0.07763191 0.89247139]\n",
      " [0.11540835 1.         0.60246815 0.06003601 0.51541135]\n",
      " [0.56029993 0.94801538 0.58327322 0.89686742 0.26542608]\n",
      " [0.07102598 0.2895787  0.9041931  0.75836453 0.75390807]\n",
      " [0.         0.32618342 0.05483365 0.38245924 0.58269313]]\n"
     ]
    }
   ],
   "source": [
    "dfmax, dfmin = df.max(), df.min()\n",
    "df = (df - dfmin)/(dfmax - dfmin)\n",
    "print(df)"
   ]
  },
  {
   "cell_type": "code",
   "execution_count": 12,
   "metadata": {},
   "outputs": [
    {
     "name": "stdout",
     "output_type": "stream",
     "text": [
      "After normalization:\n",
      "[[0.30838428 0.34841806 0.23108646 0.07763191 0.89247139]\n",
      " [0.11540835 1.         0.60246815 0.06003601 0.51541135]\n",
      " [0.56029993 0.94801538 0.58327322 0.89686742 0.26542608]\n",
      " [0.07102598 0.2895787  0.9041931  0.75836453 0.75390807]\n",
      " [0.         0.32618342 0.05483365 0.38245924 0.58269313]]\n"
     ]
    }
   ],
   "source": [
    "print(\"After normalization:\")\n",
    "print(df)"
   ]
  },
  {
   "cell_type": "code",
   "execution_count": 14,
   "metadata": {},
   "outputs": [
    {
     "data": {
      "text/plain": [
       "array([11, 14, 17, 20, 23, 26, 29, 32, 35, 38, 41, 44, 47, 50, 53, 56, 59,\n",
       "       62, 65, 68, 71, 74, 77, 80, 83, 86, 89, 92, 95, 98])"
      ]
     },
     "execution_count": 14,
     "metadata": {},
     "output_type": "execute_result"
    }
   ],
   "source": [
    "z = np.arange(11,100,3)\n",
    "z"
   ]
  },
  {
   "cell_type": "code",
   "execution_count": 20,
   "metadata": {},
   "outputs": [
    {
     "data": {
      "text/plain": [
       "array([[39, 39, 39, 39, 39],\n",
       "       [39, 39, 39, 39, 39],\n",
       "       [39, 39, 39, 39, 39],\n",
       "       [39, 39, 39, 39, 39],\n",
       "       [39, 39, 39, 39, 39]])"
      ]
     },
     "execution_count": 20,
     "metadata": {},
     "output_type": "execute_result"
    }
   ],
   "source": [
    "x = np.full([5,5],np.random.randint(100))\n",
    "x"
   ]
  },
  {
   "cell_type": "code",
   "execution_count": 22,
   "metadata": {},
   "outputs": [
    {
     "data": {
      "text/plain": [
       "array([[16, 15, 13, 20, 15],\n",
       "       [11, 21,  1, 13, 13],\n",
       "       [22, 22, 12, 16, 19],\n",
       "       [16, 11,  7, 11,  5],\n",
       "       [16, 11,  5, 17, 17]])"
      ]
     },
     "execution_count": 22,
     "metadata": {},
     "output_type": "execute_result"
    }
   ],
   "source": [
    "np.random.randint(1,25, size=[5,5])"
   ]
  }
 ],
 "metadata": {
  "kernelspec": {
   "display_name": "numpy_ven",
   "language": "python",
   "name": "python3"
  },
  "language_info": {
   "codemirror_mode": {
    "name": "ipython",
    "version": 3
   },
   "file_extension": ".py",
   "mimetype": "text/x-python",
   "name": "python",
   "nbconvert_exporter": "python",
   "pygments_lexer": "ipython3",
   "version": "3.10.5"
  },
  "orig_nbformat": 4
 },
 "nbformat": 4,
 "nbformat_minor": 2
}
