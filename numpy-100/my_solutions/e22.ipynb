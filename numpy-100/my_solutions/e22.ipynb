{
 "cells": [
  {
   "cell_type": "code",
   "execution_count": 3,
   "metadata": {},
   "outputs": [],
   "source": [
    "# 22. Normalize a 5x5 random matrix (★☆☆)\n",
    "\n",
    "import numpy as np\n"
   ]
  },
  {
   "cell_type": "code",
   "execution_count": 4,
   "metadata": {},
   "outputs": [],
   "source": [
    "a = np.random.rand(5,5)"
   ]
  },
  {
   "cell_type": "code",
   "execution_count": 5,
   "metadata": {},
   "outputs": [
    {
     "data": {
      "text/plain": [
       "array([[0.14408066, 0.24202652, 0.70344471, 0.17948261, 0.54801174],\n",
       "       [0.00268988, 0.10734143, 0.40103337, 0.57852179, 0.20051409],\n",
       "       [0.72599757, 0.0650743 , 0.69879694, 0.29025535, 0.19605385],\n",
       "       [0.00996741, 0.81791373, 0.55694844, 0.4282865 , 0.49083734],\n",
       "       [0.18262085, 0.46493498, 0.21677421, 0.27415659, 0.72586022]])"
      ]
     },
     "execution_count": 5,
     "metadata": {},
     "output_type": "execute_result"
    }
   ],
   "source": [
    "a"
   ]
  },
  {
   "cell_type": "code",
   "execution_count": 6,
   "metadata": {},
   "outputs": [
    {
     "name": "stdout",
     "output_type": "stream",
     "text": [
      "Original Array:\n",
      "[[0.10787294 0.20866614 0.20208288 0.00220369 0.44084783]\n",
      " [0.26171205 0.98453321 0.59498871 0.3038253  0.95680008]\n",
      " [0.62751661 0.66888325 0.91432535 0.96501963 0.34446256]\n",
      " [0.56271772 0.74747442 0.40171676 0.31103329 0.55406784]\n",
      " [0.28042643 0.07829154 0.05581355 0.64307864 0.89248533]]\n"
     ]
    }
   ],
   "source": [
    "df= np.random.random((5,5))\n",
    "print(\"Original Array:\")\n",
    "print(df)"
   ]
  },
  {
   "cell_type": "code",
   "execution_count": 7,
   "metadata": {},
   "outputs": [
    {
     "name": "stdout",
     "output_type": "stream",
     "text": [
      "[[0.10757006 0.21017637 0.20347469 0.         0.44653462]\n",
      " [0.26417648 1.         0.60344824 0.30704729 0.97176799]\n",
      " [0.63656126 0.67867202 0.92852921 0.98013541 0.34841554]\n",
      " [0.57059675 0.75867691 0.40669965 0.31438493 0.56179127]\n",
      " [0.28322751 0.07745654 0.05457422 0.65240322 0.90629633]]\n"
     ]
    }
   ],
   "source": [
    "dfmax, dfmin = df.max(), df.min()\n",
    "df = (df - dfmin)/(dfmax - dfmin)\n",
    "print(df)"
   ]
  },
  {
   "cell_type": "code",
   "execution_count": 8,
   "metadata": {},
   "outputs": [
    {
     "name": "stdout",
     "output_type": "stream",
     "text": [
      "After normalization:\n",
      "[[0.10757006 0.21017637 0.20347469 0.         0.44653462]\n",
      " [0.26417648 1.         0.60344824 0.30704729 0.97176799]\n",
      " [0.63656126 0.67867202 0.92852921 0.98013541 0.34841554]\n",
      " [0.57059675 0.75867691 0.40669965 0.31438493 0.56179127]\n",
      " [0.28322751 0.07745654 0.05457422 0.65240322 0.90629633]]\n"
     ]
    }
   ],
   "source": [
    "print(\"After normalization:\")\n",
    "print(df)"
   ]
  },
  {
   "cell_type": "code",
   "execution_count": 9,
   "metadata": {},
   "outputs": [
    {
     "data": {
      "text/plain": [
       "array([11, 14, 17, 20, 23, 26, 29, 32, 35, 38, 41, 44, 47, 50, 53, 56, 59,\n",
       "       62, 65, 68, 71, 74, 77, 80, 83, 86, 89, 92, 95, 98])"
      ]
     },
     "execution_count": 9,
     "metadata": {},
     "output_type": "execute_result"
    }
   ],
   "source": [
    "z = np.arange(11,100,3)\n",
    "z"
   ]
  },
  {
   "cell_type": "code",
   "execution_count": 10,
   "metadata": {},
   "outputs": [
    {
     "data": {
      "text/plain": [
       "array([[98, 98, 98, 98, 98],\n",
       "       [98, 98, 98, 98, 98],\n",
       "       [98, 98, 98, 98, 98],\n",
       "       [98, 98, 98, 98, 98],\n",
       "       [98, 98, 98, 98, 98]])"
      ]
     },
     "execution_count": 10,
     "metadata": {},
     "output_type": "execute_result"
    }
   ],
   "source": [
    "x = np.full([5,5],np.random.randint(100))\n",
    "x"
   ]
  },
  {
   "cell_type": "code",
   "execution_count": 11,
   "metadata": {},
   "outputs": [
    {
     "data": {
      "text/plain": [
       "array([[20,  3, 14,  3,  7],\n",
       "       [ 2, 23, 15,  7,  2],\n",
       "       [18,  4, 18,  1, 10],\n",
       "       [18,  9,  3,  9, 20],\n",
       "       [10,  7, 24,  8,  3]])"
      ]
     },
     "execution_count": 11,
     "metadata": {},
     "output_type": "execute_result"
    }
   ],
   "source": [
    "np.random.randint(1,25, size=[5,5])"
   ]
  },
  {
   "attachments": {},
   "cell_type": "markdown",
   "metadata": {},
   "source": [
    "### teachers solution"
   ]
  },
  {
   "cell_type": "code",
   "execution_count": 13,
   "metadata": {},
   "outputs": [
    {
     "name": "stdout",
     "output_type": "stream",
     "text": [
      "[[ 1.0918364   0.90434027 -0.84772933  0.00528593 -0.40921308]\n",
      " [ 1.4746546   0.02012103  1.68787137 -1.25346271 -0.16663766]\n",
      " [-1.24213878  0.53625118  1.7834619   1.33288171 -0.12216014]\n",
      " [-0.43004438 -0.8595306  -1.53320174  1.01153787 -0.69520642]\n",
      " [-1.47045826 -0.96139092  0.05399519 -0.58957394  0.67851051]]\n"
     ]
    }
   ],
   "source": [
    "# `hint: (x -mean)/std`\n",
    "\n",
    "# ```python\n",
    "Zb = np.random.random((5,5))\n",
    "Z = (Zb - np.mean (Zb)) / (np.std (Zb))\n",
    "print(Z)"
   ]
  },
  {
   "cell_type": "code",
   "execution_count": 14,
   "metadata": {},
   "outputs": [
    {
     "name": "stdout",
     "output_type": "stream",
     "text": [
      "[[0.80761377 0.75619465 0.2757054  0.50963712 0.39596451]\n",
      " [0.9125982  0.51370551 0.97107097 0.16443668 0.46248863]\n",
      " [0.16754217 0.65524954 0.99728581 0.87371827 0.47468619]\n",
      " [0.39025172 0.272469   0.08772078 0.78559262 0.31753343]\n",
      " [0.10492761 0.24453473 0.52299519 0.34650218 0.69426288]]\n"
     ]
    }
   ],
   "source": [
    "print(Zb)"
   ]
  },
  {
   "cell_type": "code",
   "execution_count": 15,
   "metadata": {},
   "outputs": [
    {
     "data": {
      "text/plain": [
       "0.27424096357814176"
      ]
     },
     "execution_count": 15,
     "metadata": {},
     "output_type": "execute_result"
    }
   ],
   "source": [
    "np.std (Zb)"
   ]
  },
  {
   "cell_type": "code",
   "execution_count": 16,
   "metadata": {},
   "outputs": [
    {
     "data": {
      "text/plain": [
       "0.5081875029757726"
      ]
     },
     "execution_count": 16,
     "metadata": {},
     "output_type": "execute_result"
    }
   ],
   "source": [
    "np.mean (Zb)"
   ]
  }
 ],
 "metadata": {
  "kernelspec": {
   "display_name": "numpy_ven",
   "language": "python",
   "name": "python3"
  },
  "language_info": {
   "codemirror_mode": {
    "name": "ipython",
    "version": 3
   },
   "file_extension": ".py",
   "mimetype": "text/x-python",
   "name": "python",
   "nbconvert_exporter": "python",
   "pygments_lexer": "ipython3",
   "version": "3.10.5"
  },
  "orig_nbformat": 4
 },
 "nbformat": 4,
 "nbformat_minor": 2
}
