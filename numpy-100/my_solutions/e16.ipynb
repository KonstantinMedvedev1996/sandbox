{
 "cells": [
  {
   "cell_type": "code",
   "execution_count": 23,
   "metadata": {},
   "outputs": [],
   "source": [
    "import numpy as np"
   ]
  },
  {
   "cell_type": "code",
   "execution_count": 24,
   "metadata": {},
   "outputs": [
    {
     "name": "stdout",
     "output_type": "stream",
     "text": [
      "[[  8  56  37  32   3  20  32  21  49  26]\n",
      " [ 45  86  29  28  25  26  75  59  98  93]\n",
      " [ 40   5  79  93  34  53  26  34  54  71]\n",
      " [ 54  61  58  63  32  76  71  39  67  74]\n",
      " [ 99  28  47  42  65  98  13  33  10  79]\n",
      " [ 59  83  98  47   6  37  97  67  58  94]\n",
      " [ 22  67  80  19  51  68  83  49  97  63]\n",
      " [ 47  55  98  83   7  11  19  81   5  17]\n",
      " [ 62  39  27   4  36  26  43  50  66  10]\n",
      " [ 33 100  16  83  50  97  62  94  90  75]]\n"
     ]
    }
   ],
   "source": [
    "a = np.random.randint(1,101, size=[10,10])\n",
    "print(a)"
   ]
  },
  {
   "cell_type": "code",
   "execution_count": 25,
   "metadata": {},
   "outputs": [
    {
     "data": {
      "text/plain": [
       "51.77"
      ]
     },
     "execution_count": 25,
     "metadata": {},
     "output_type": "execute_result"
    }
   ],
   "source": [
    "a.mean()"
   ]
  },
  {
   "cell_type": "code",
   "execution_count": 26,
   "metadata": {},
   "outputs": [],
   "source": [
    "\n",
    "def border_ones(arr2d):\n",
    "    # a = np.zeros([height,wide])\n",
    "    size_hight = arr2d.shape[0]\n",
    "    size_wide = arr2d.shape[1]\n",
    "    for i  in range(size_hight):\n",
    "        for y in range(size_wide):\n",
    "            if i == 0 or i == size_hight-1:\n",
    "                arr2d[i,y] = 1\n",
    "            elif y == 0 or y == size_wide-1:\n",
    "                arr2d[i,y] = 1\n",
    "        # print(\"{item}\\n\".format(item=a[i,y]))\n",
    "    print(arr2d)"
   ]
  },
  {
   "cell_type": "code",
   "execution_count": 27,
   "metadata": {},
   "outputs": [
    {
     "name": "stdout",
     "output_type": "stream",
     "text": [
      "[[ 1  1  1  1  1  1  1  1  1  1]\n",
      " [ 1 86 29 28 25 26 75 59 98  1]\n",
      " [ 1  5 79 93 34 53 26 34 54  1]\n",
      " [ 1 61 58 63 32 76 71 39 67  1]\n",
      " [ 1 28 47 42 65 98 13 33 10  1]\n",
      " [ 1 83 98 47  6 37 97 67 58  1]\n",
      " [ 1 67 80 19 51 68 83 49 97  1]\n",
      " [ 1 55 98 83  7 11 19 81  5  1]\n",
      " [ 1 39 27  4 36 26 43 50 66  1]\n",
      " [ 1  1  1  1  1  1  1  1  1  1]]\n"
     ]
    }
   ],
   "source": [
    "border_ones(a)"
   ]
  },
  {
   "cell_type": "code",
   "execution_count": 28,
   "metadata": {},
   "outputs": [
    {
     "name": "stdout",
     "output_type": "stream",
     "text": [
      "[[0. 0. 0. 0. 0. 0. 0.]\n",
      " [0. 1. 1. 1. 1. 1. 0.]\n",
      " [0. 1. 1. 1. 1. 1. 0.]\n",
      " [0. 1. 1. 1. 1. 1. 0.]\n",
      " [0. 1. 1. 1. 1. 1. 0.]\n",
      " [0. 1. 1. 1. 1. 1. 0.]\n",
      " [0. 0. 0. 0. 0. 0. 0.]]\n"
     ]
    }
   ],
   "source": [
    "Z = np.ones((5,5))\n",
    "Z = np.pad(Z, pad_width=1, mode='constant', constant_values=0)\n",
    "print(Z)"
   ]
  },
  {
   "cell_type": "code",
   "execution_count": 30,
   "metadata": {},
   "outputs": [
    {
     "name": "stdout",
     "output_type": "stream",
     "text": [
      "[[5. 5. 5. 5. 5. 5. 5. 5. 5. 5. 5. 5. 5. 5. 5. 5.]\n",
      " [5. 5. 5. 5. 5. 5. 5. 5. 5. 5. 5. 5. 5. 5. 5. 5.]\n",
      " [5. 5. 5. 5. 5. 5. 5. 5. 5. 5. 5. 5. 5. 5. 5. 5.]\n",
      " [5. 5. 5. 1. 1. 1. 1. 1. 1. 1. 1. 1. 1. 5. 5. 5.]\n",
      " [5. 5. 5. 1. 1. 1. 1. 1. 1. 1. 1. 1. 1. 5. 5. 5.]\n",
      " [5. 5. 5. 1. 1. 1. 1. 1. 1. 1. 1. 1. 1. 5. 5. 5.]\n",
      " [5. 5. 5. 1. 1. 1. 1. 1. 1. 1. 1. 1. 1. 5. 5. 5.]\n",
      " [5. 5. 5. 1. 1. 1. 1. 1. 1. 1. 1. 1. 1. 5. 5. 5.]\n",
      " [5. 5. 5. 1. 1. 1. 1. 1. 1. 1. 1. 1. 1. 5. 5. 5.]\n",
      " [5. 5. 5. 1. 1. 1. 1. 1. 1. 1. 1. 1. 1. 5. 5. 5.]\n",
      " [5. 5. 5. 1. 1. 1. 1. 1. 1. 1. 1. 1. 1. 5. 5. 5.]\n",
      " [5. 5. 5. 1. 1. 1. 1. 1. 1. 1. 1. 1. 1. 5. 5. 5.]\n",
      " [5. 5. 5. 1. 1. 1. 1. 1. 1. 1. 1. 1. 1. 5. 5. 5.]\n",
      " [5. 5. 5. 5. 5. 5. 5. 5. 5. 5. 5. 5. 5. 5. 5. 5.]\n",
      " [5. 5. 5. 5. 5. 5. 5. 5. 5. 5. 5. 5. 5. 5. 5. 5.]\n",
      " [5. 5. 5. 5. 5. 5. 5. 5. 5. 5. 5. 5. 5. 5. 5. 5.]]\n"
     ]
    }
   ],
   "source": [
    "Z = np.ones((10,10))\n",
    "Z = np.pad(Z, pad_width=3, mode='constant', constant_values=5)\n",
    "print(Z)"
   ]
  },
  {
   "cell_type": "code",
   "execution_count": 31,
   "metadata": {},
   "outputs": [],
   "source": [
    "Z = np.ones((9,9))"
   ]
  },
  {
   "cell_type": "code",
   "execution_count": 32,
   "metadata": {},
   "outputs": [
    {
     "data": {
      "text/plain": [
       "array([[1., 1., 1., 1., 1., 1., 1., 1., 1.],\n",
       "       [1., 1., 1., 1., 1., 1., 1., 1., 1.],\n",
       "       [1., 1., 1., 1., 1., 1., 1., 1., 1.],\n",
       "       [1., 1., 1., 1., 1., 1., 1., 1., 1.],\n",
       "       [1., 1., 1., 1., 1., 1., 1., 1., 1.],\n",
       "       [1., 1., 1., 1., 1., 1., 1., 1., 1.],\n",
       "       [1., 1., 1., 1., 1., 1., 1., 1., 1.],\n",
       "       [1., 1., 1., 1., 1., 1., 1., 1., 1.],\n",
       "       [1., 1., 1., 1., 1., 1., 1., 1., 1.]])"
      ]
     },
     "execution_count": 32,
     "metadata": {},
     "output_type": "execute_result"
    }
   ],
   "source": [
    "Z"
   ]
  },
  {
   "cell_type": "code",
   "execution_count": 33,
   "metadata": {},
   "outputs": [
    {
     "name": "stdout",
     "output_type": "stream",
     "text": [
      "[[0. 0. 0. 0. 0. 0. 0. 0. 0.]\n",
      " [1. 1. 1. 1. 1. 1. 1. 1. 1.]\n",
      " [1. 1. 1. 1. 1. 1. 1. 1. 1.]\n",
      " [1. 1. 1. 1. 1. 1. 1. 1. 1.]\n",
      " [1. 1. 1. 1. 1. 1. 1. 1. 1.]\n",
      " [1. 1. 1. 1. 1. 1. 1. 1. 1.]\n",
      " [1. 1. 1. 1. 1. 1. 1. 1. 1.]\n",
      " [1. 1. 1. 1. 1. 1. 1. 1. 1.]\n",
      " [0. 0. 0. 0. 0. 0. 0. 0. 0.]]\n"
     ]
    }
   ],
   "source": [
    "Z[[0, -1], :] = 0\n",
    "print(Z)"
   ]
  },
  {
   "cell_type": "code",
   "execution_count": 34,
   "metadata": {},
   "outputs": [
    {
     "name": "stdout",
     "output_type": "stream",
     "text": [
      "[[0. 0. 0. 0. 0. 0. 0. 0. 0.]\n",
      " [0. 1. 1. 1. 1. 1. 1. 1. 0.]\n",
      " [0. 1. 1. 1. 1. 1. 1. 1. 0.]\n",
      " [0. 1. 1. 1. 1. 1. 1. 1. 0.]\n",
      " [0. 1. 1. 1. 1. 1. 1. 1. 0.]\n",
      " [0. 1. 1. 1. 1. 1. 1. 1. 0.]\n",
      " [0. 1. 1. 1. 1. 1. 1. 1. 0.]\n",
      " [0. 1. 1. 1. 1. 1. 1. 1. 0.]\n",
      " [0. 0. 0. 0. 0. 0. 0. 0. 0.]]\n"
     ]
    }
   ],
   "source": [
    "# Using fancy indexing\n",
    "Z[:, [0, -1]] = 0\n",
    "# Z[[0, -1], :] = 0\n",
    "print(Z)"
   ]
  }
 ],
 "metadata": {
  "kernelspec": {
   "display_name": "numpy_ven",
   "language": "python",
   "name": "python3"
  },
  "language_info": {
   "codemirror_mode": {
    "name": "ipython",
    "version": 3
   },
   "file_extension": ".py",
   "mimetype": "text/x-python",
   "name": "python",
   "nbconvert_exporter": "python",
   "pygments_lexer": "ipython3",
   "version": "3.10.5"
  },
  "orig_nbformat": 4
 },
 "nbformat": 4,
 "nbformat_minor": 2
}
