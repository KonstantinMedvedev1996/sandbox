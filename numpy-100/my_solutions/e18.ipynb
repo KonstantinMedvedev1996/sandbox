{
 "cells": [
  {
   "cell_type": "code",
   "execution_count": 74,
   "metadata": {},
   "outputs": [],
   "source": [
    "import numpy as np"
   ]
  },
  {
   "cell_type": "code",
   "execution_count": 75,
   "metadata": {},
   "outputs": [],
   "source": [
    "b = np.random.randint(1,11, size=[5,5])"
   ]
  },
  {
   "cell_type": "code",
   "execution_count": 76,
   "metadata": {},
   "outputs": [
    {
     "data": {
      "text/plain": [
       "array([[ 4, 10,  7,  6,  9],\n",
       "       [10, 10,  9,  3, 10],\n",
       "       [ 6,  3,  6,  8,  3],\n",
       "       [10,  7,  5,  5,  4],\n",
       "       [ 7,  7,  5,  1,  8]])"
      ]
     },
     "execution_count": 76,
     "metadata": {},
     "output_type": "execute_result"
    }
   ],
   "source": [
    "b"
   ]
  },
  {
   "cell_type": "code",
   "execution_count": 77,
   "metadata": {},
   "outputs": [
    {
     "data": {
      "text/plain": [
       "array([[ 4, 10,  7,  6,  9],\n",
       "       [ 1, 10,  9,  3, 10],\n",
       "       [ 1,  1,  6,  8,  3],\n",
       "       [ 4,  1,  3,  5,  4],\n",
       "       [ 2,  4,  2,  3,  8]])"
      ]
     },
     "execution_count": 77,
     "metadata": {},
     "output_type": "execute_result"
    }
   ],
   "source": [
    "for i in range(b.shape[0]):\n",
    "    for j in range(b.shape[1]):\n",
    "        if i > j:\n",
    "            # We are below the diagonal\n",
    "            b[i,j] = np.random.randint(1,5)\n",
    "        else:\n",
    "            continue\n",
    "b"
   ]
  },
  {
   "cell_type": "code",
   "execution_count": 78,
   "metadata": {},
   "outputs": [],
   "source": [
    "# a = np.arange(9).reshape(3, 3)\n",
    "\n",
    "# a\n",
    "# array([[0, 1, 2],\n",
    "#        [3, 4, 5],\n",
    "#        [6, 7, 8]])\n",
    "\n",
    "# np.fliplr(a).diagonal()  # Horizontal flip\n",
    "# array([2, 4, 6])\n",
    "\n",
    "# np.flipud(a).diagonal()  # Vertical flip\n",
    "# array([6, 4, 2])"
   ]
  },
  {
   "cell_type": "code",
   "execution_count": 79,
   "metadata": {},
   "outputs": [],
   "source": [
    "# a = np.arange(9).reshape(3, 3)\n",
    "\n",
    "# a\n"
   ]
  },
  {
   "cell_type": "code",
   "execution_count": 80,
   "metadata": {},
   "outputs": [],
   "source": [
    "# diag_a = np.diagonal(a)\n",
    "# diag_a"
   ]
  },
  {
   "cell_type": "code",
   "execution_count": 81,
   "metadata": {},
   "outputs": [],
   "source": [
    "# a_diag_2 = np.fliplr(a).diagonal()\n",
    "# a_diag_2"
   ]
  },
  {
   "cell_type": "code",
   "execution_count": 82,
   "metadata": {},
   "outputs": [],
   "source": [
    "# import numpy as np\n",
    "# arr = np.array([[1,2,3], [4, 5, 6], [7, 8, 9]])\n",
    "\n",
    "# for i in range(arr.shape[0]):\n",
    "#     for j in range(arr.shape[1]):\n",
    "#         if i == j:\n",
    "#             # We are on a diagonal, do nothing\n",
    "#             continue\n",
    "#         else:\n",
    "#             arr[i,j] = 0\n",
    "\n",
    "# If you want to only set the \"upper\" triangle to zero, you would use this instead:\n",
    "\n",
    "# import numpy as np\n",
    "# arr = np.array([[1,2,3], [4, 5, 6], [7, 8, 9]])\n",
    "\n",
    "# for i in range(arr.shape[0]):\n",
    "#     for j in range(arr.shape[1]):\n",
    "#         if i > j:\n",
    "#             # We are above the diagonal\n",
    "#             arr[i,j] = 0\n",
    "#         else:\n",
    "#             continue\n",
    "\n",
    "# And lastly, if you only want to set the lower diagonal to zero:\n",
    "\n",
    "# import numpy as np\n",
    "# arr = np.array([[1,2,3], [4, 5, 6], [7, 8, 9]])\n",
    "\n",
    "# for i in range(arr.shape[0]):\n",
    "#     for j in range(arr.shape[1]):\n",
    "#         if i < j:\n",
    "#             # We are below the diagonal\n",
    "#             arr[i,j] = 0\n",
    "#         else:\n",
    "#             continue\n",
    "\n"
   ]
  },
  {
   "cell_type": "code",
   "execution_count": 83,
   "metadata": {},
   "outputs": [],
   "source": [
    "# import numpy as np\n",
    "# arr = np.array([[1,2,3], [4, 5, 6], [7, 8, 9]])\n",
    "\n",
    "# for i in range(arr.shape[0]):\n",
    "#     for j in range(arr.shape[1]):\n",
    "#         if i == j:\n",
    "#             # We are on a diagonal, do nothing\n",
    "#             continue\n",
    "#         else:\n",
    "#             arr[i,j] = 0\n",
    "\n",
    "# arr"
   ]
  },
  {
   "cell_type": "code",
   "execution_count": 84,
   "metadata": {},
   "outputs": [],
   "source": [
    "# import numpy as np\n",
    "# arr = np.array([[1,2,3], [4, 5, 6], [7, 8, 9]])\n",
    "\n",
    "# for i in range(arr.shape[0]):\n",
    "#     for j in range(arr.shape[1]):\n",
    "#         if i > j:\n",
    "#             # We are below the diagonal\n",
    "#             arr[i,j] = np.random.randint(1,5)\n",
    "#         else:\n",
    "#             continue\n",
    "# arr"
   ]
  }
 ],
 "metadata": {
  "kernelspec": {
   "display_name": "numpy_ven",
   "language": "python",
   "name": "python3"
  },
  "language_info": {
   "codemirror_mode": {
    "name": "ipython",
    "version": 3
   },
   "file_extension": ".py",
   "mimetype": "text/x-python",
   "name": "python",
   "nbconvert_exporter": "python",
   "pygments_lexer": "ipython3",
   "version": "3.10.5"
  },
  "orig_nbformat": 4
 },
 "nbformat": 4,
 "nbformat_minor": 2
}
