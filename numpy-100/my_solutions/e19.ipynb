{
 "cells": [
  {
   "cell_type": "code",
   "execution_count": 17,
   "metadata": {},
   "outputs": [],
   "source": [
    "import numpy as np"
   ]
  },
  {
   "cell_type": "code",
   "execution_count": 18,
   "metadata": {},
   "outputs": [
    {
     "data": {
      "text/plain": [
       "'bbbbbbbbbbbbbbbbbbbbbbbbbbbbbbbbbbbbbbbbbbbbbbbbbbbbbbbbbbbbbbbb'"
      ]
     },
     "execution_count": 18,
     "metadata": {},
     "output_type": "execute_result"
    }
   ],
   "source": [
    "l = 'b'*64\n",
    "l"
   ]
  },
  {
   "cell_type": "code",
   "execution_count": 19,
   "metadata": {},
   "outputs": [
    {
     "data": {
      "text/plain": [
       "array([['b', 'b', 'b', 'b', 'b', 'b', 'b', 'b'],\n",
       "       ['b', 'b', 'b', 'b', 'b', 'b', 'b', 'b'],\n",
       "       ['b', 'b', 'b', 'b', 'b', 'b', 'b', 'b'],\n",
       "       ['b', 'b', 'b', 'b', 'b', 'b', 'b', 'b'],\n",
       "       ['b', 'b', 'b', 'b', 'b', 'b', 'b', 'b'],\n",
       "       ['b', 'b', 'b', 'b', 'b', 'b', 'b', 'b'],\n",
       "       ['b', 'b', 'b', 'b', 'b', 'b', 'b', 'b'],\n",
       "       ['b', 'b', 'b', 'b', 'b', 'b', 'b', 'b']], dtype='<U1')"
      ]
     },
     "execution_count": 19,
     "metadata": {},
     "output_type": "execute_result"
    }
   ],
   "source": [
    "a=np.array([ list(word) for word in l ]).reshape(8,8)\n",
    "a"
   ]
  },
  {
   "cell_type": "code",
   "execution_count": 20,
   "metadata": {},
   "outputs": [
    {
     "data": {
      "text/plain": [
       "array([['w', 'b', 'w', 'b', 'w', 'b', 'w', 'b'],\n",
       "       ['b', 'b', 'b', 'b', 'b', 'b', 'b', 'b'],\n",
       "       ['w', 'b', 'w', 'b', 'w', 'b', 'w', 'b'],\n",
       "       ['b', 'b', 'b', 'b', 'b', 'b', 'b', 'b'],\n",
       "       ['w', 'b', 'w', 'b', 'w', 'b', 'w', 'b'],\n",
       "       ['b', 'b', 'b', 'b', 'b', 'b', 'b', 'b'],\n",
       "       ['w', 'b', 'w', 'b', 'w', 'b', 'w', 'b'],\n",
       "       ['b', 'b', 'b', 'b', 'b', 'b', 'b', 'b']], dtype='<U1')"
      ]
     },
     "execution_count": 20,
     "metadata": {},
     "output_type": "execute_result"
    }
   ],
   "source": [
    "for i in range(a.shape[0]):\n",
    "    for j in range(a.shape[1]):\n",
    "        if i%2 == 0 and j%2 == 0:\n",
    "            # We are below the diagonal\n",
    "            a[i,j] = 'w'\n",
    "        else:\n",
    "            continue\n",
    "a"
   ]
  },
  {
   "cell_type": "code",
   "execution_count": null,
   "metadata": {},
   "outputs": [],
   "source": [
    "# teachers solution\n",
    "# Z = np.diag(1+np.arange(4),k=-1)\n",
    "# print(Z)"
   ]
  },
  {
   "cell_type": "code",
   "execution_count": 21,
   "metadata": {},
   "outputs": [
    {
     "data": {
      "text/plain": [
       "array([[0, 0, 0, 0, 0],\n",
       "       [1, 0, 0, 0, 0],\n",
       "       [0, 2, 0, 0, 0],\n",
       "       [0, 0, 3, 0, 0],\n",
       "       [0, 0, 0, 4, 0]])"
      ]
     },
     "execution_count": 21,
     "metadata": {},
     "output_type": "execute_result"
    }
   ],
   "source": [
    "z = np.diag(1+np.arange(4),k=-1)\n",
    "z"
   ]
  },
  {
   "cell_type": "code",
   "execution_count": 22,
   "metadata": {},
   "outputs": [
    {
     "data": {
      "text/plain": [
       "array([1, 5])"
      ]
     },
     "execution_count": 22,
     "metadata": {},
     "output_type": "execute_result"
    }
   ],
   "source": [
    "import numpy as np\n",
    "a = np.arange(12).reshape((4,3))\n",
    "np.diag(a, k=1)\n"
   ]
  },
  {
   "cell_type": "code",
   "execution_count": 26,
   "metadata": {},
   "outputs": [
    {
     "data": {
      "text/plain": [
       "array([0, 1, 2, 3])"
      ]
     },
     "execution_count": 26,
     "metadata": {},
     "output_type": "execute_result"
    }
   ],
   "source": [
    "np.arange(4)"
   ]
  },
  {
   "cell_type": "code",
   "execution_count": 31,
   "metadata": {},
   "outputs": [
    {
     "data": {
      "text/plain": [
       "array([2, 2, 2, 2, 2, 2, 2, 2])"
      ]
     },
     "execution_count": 31,
     "metadata": {},
     "output_type": "execute_result"
    }
   ],
   "source": [
    "np.full(8,2)"
   ]
  },
  {
   "cell_type": "code",
   "execution_count": 32,
   "metadata": {},
   "outputs": [
    {
     "data": {
      "text/plain": [
       "array([0, 0, 0, 0, 0, 0, 0, 0, 0, 0])"
      ]
     },
     "execution_count": 32,
     "metadata": {},
     "output_type": "execute_result"
    }
   ],
   "source": [
    "np.full(10,0)"
   ]
  },
  {
   "cell_type": "code",
   "execution_count": 34,
   "metadata": {},
   "outputs": [
    {
     "data": {
      "text/plain": [
       "array([1, 1, 1, 1, 1, 1, 1, 1, 1, 1, 1, 1])"
      ]
     },
     "execution_count": 34,
     "metadata": {},
     "output_type": "execute_result"
    }
   ],
   "source": [
    "np.full(12,1)"
   ]
  },
  {
   "cell_type": "code",
   "execution_count": 28,
   "metadata": {},
   "outputs": [
    {
     "data": {
      "text/plain": [
       "array([[-2,  0,  0,  0,  0,  0,  0],\n",
       "       [ 0, -2,  0,  0,  0,  0,  0],\n",
       "       [ 0,  0, -2,  0,  0,  0,  0],\n",
       "       [ 0,  0,  0, -2,  0,  0,  0],\n",
       "       [ 0,  0,  0,  0, -2,  0,  0],\n",
       "       [ 0,  0,  0,  0,  0, -2,  0],\n",
       "       [ 0,  0,  0,  0,  0,  0, -2]])"
      ]
     },
     "execution_count": 28,
     "metadata": {},
     "output_type": "execute_result"
    }
   ],
   "source": [
    "np.diag(np.full(7,-2))  "
   ]
  },
  {
   "cell_type": "code",
   "execution_count": 36,
   "metadata": {},
   "outputs": [
    {
     "data": {
      "text/plain": [
       "array([[7, 7, 7, 7, 7],\n",
       "       [7, 7, 7, 7, 7],\n",
       "       [7, 7, 7, 7, 7]])"
      ]
     },
     "execution_count": 36,
     "metadata": {},
     "output_type": "execute_result"
    }
   ],
   "source": [
    "np.full([3,5],7)"
   ]
  }
 ],
 "metadata": {
  "kernelspec": {
   "display_name": "numpy_ven",
   "language": "python",
   "name": "python3"
  },
  "language_info": {
   "codemirror_mode": {
    "name": "ipython",
    "version": 3
   },
   "file_extension": ".py",
   "mimetype": "text/x-python",
   "name": "python",
   "nbconvert_exporter": "python",
   "pygments_lexer": "ipython3",
   "version": "3.10.5"
  },
  "orig_nbformat": 4
 },
 "nbformat": 4,
 "nbformat_minor": 2
}
