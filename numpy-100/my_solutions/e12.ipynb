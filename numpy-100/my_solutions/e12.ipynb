{
 "cells": [
  {
   "cell_type": "code",
   "execution_count": 1,
   "metadata": {},
   "outputs": [],
   "source": [
    "import numpy as np"
   ]
  },
  {
   "cell_type": "code",
   "execution_count": 2,
   "metadata": {},
   "outputs": [],
   "source": [
    "#  np.random.randint(1, 5, size=(4, 4))\n"
   ]
  },
  {
   "cell_type": "code",
   "execution_count": 3,
   "metadata": {},
   "outputs": [],
   "source": [
    "# k = np.random.random ([3,4]) * 10"
   ]
  },
  {
   "cell_type": "code",
   "execution_count": 4,
   "metadata": {},
   "outputs": [],
   "source": [
    "# a = np.random.randint(100, size = (5,4)) #a is a variable(object)"
   ]
  },
  {
   "cell_type": "code",
   "execution_count": 5,
   "metadata": {},
   "outputs": [],
   "source": [
    "a = np.random.randint(1,101,size=(3,3,3))"
   ]
  },
  {
   "cell_type": "code",
   "execution_count": 6,
   "metadata": {},
   "outputs": [
    {
     "data": {
      "text/plain": [
       "array([[[14, 96, 42],\n",
       "        [89, 88, 59],\n",
       "        [24, 90, 79]],\n",
       "\n",
       "       [[38, 11, 61],\n",
       "        [32, 78, 46],\n",
       "        [20, 84,  2]],\n",
       "\n",
       "       [[99, 35, 13],\n",
       "        [21, 35, 86],\n",
       "        [ 7, 60, 22]]])"
      ]
     },
     "execution_count": 6,
     "metadata": {},
     "output_type": "execute_result"
    }
   ],
   "source": [
    "a"
   ]
  },
  {
   "cell_type": "code",
   "execution_count": 7,
   "metadata": {},
   "outputs": [],
   "source": [
    "b = np.random.random([3,3,3])"
   ]
  },
  {
   "cell_type": "code",
   "execution_count": 8,
   "metadata": {},
   "outputs": [
    {
     "data": {
      "text/plain": [
       "array([[[0.66566919, 0.09437173, 0.60399775],\n",
       "        [0.2713962 , 0.53753892, 0.04655046],\n",
       "        [0.7663666 , 0.89281214, 0.79562024]],\n",
       "\n",
       "       [[0.03081439, 0.14778461, 0.9086698 ],\n",
       "        [0.72685425, 0.68005663, 0.65127984],\n",
       "        [0.29629602, 0.75178899, 0.75061824]],\n",
       "\n",
       "       [[0.16109025, 0.00821971, 0.42226534],\n",
       "        [0.81464253, 0.8795457 , 0.12571061],\n",
       "        [0.2513646 , 0.76638261, 0.32606296]]])"
      ]
     },
     "execution_count": 8,
     "metadata": {},
     "output_type": "execute_result"
    }
   ],
   "source": [
    "b"
   ]
  },
  {
   "cell_type": "code",
   "execution_count": 9,
   "metadata": {},
   "outputs": [],
   "source": [
    "c = np.random.random([3,3,3])*100"
   ]
  },
  {
   "cell_type": "code",
   "execution_count": 10,
   "metadata": {},
   "outputs": [
    {
     "data": {
      "text/plain": [
       "array([[[ 1.64922894, 96.3476462 , 59.32497336],\n",
       "        [28.80904716,  5.94080593, 64.78283699],\n",
       "        [67.65099167,  6.63906912, 14.01806495]],\n",
       "\n",
       "       [[64.40322528,  1.31505326, 65.89650694],\n",
       "        [55.05428878, 72.77331365, 89.19799766],\n",
       "        [95.78851958, 15.61385867, 51.38464213]],\n",
       "\n",
       "       [[32.69845297, 70.57593522, 15.56367784],\n",
       "        [17.95062948, 84.22616762, 54.84167006],\n",
       "        [37.08300643, 28.22607611, 94.9963614 ]]])"
      ]
     },
     "execution_count": 10,
     "metadata": {},
     "output_type": "execute_result"
    }
   ],
   "source": [
    "c"
   ]
  },
  {
   "cell_type": "code",
   "execution_count": 11,
   "metadata": {},
   "outputs": [
    {
     "name": "stdout",
     "output_type": "stream",
     "text": [
      "[[[0.98915893 0.46366601 0.48204046]\n",
      "  [0.21510208 0.34929689 0.00362694]\n",
      "  [0.89808815 0.42353574 0.87592221]]\n",
      "\n",
      " [[0.03443127 0.73744763 0.521069  ]\n",
      "  [0.54191736 0.62299667 0.1920632 ]\n",
      "  [0.81194727 0.75204609 0.85730947]]\n",
      "\n",
      " [[0.17035999 0.01027282 0.83953385]\n",
      "  [0.04211441 0.83708015 0.77408095]\n",
      "  [0.64929229 0.71946413 0.67451666]]]\n"
     ]
    }
   ],
   "source": [
    "Z = np.random.random((3,3,3))\n",
    "print(Z)"
   ]
  }
 ],
 "metadata": {
  "kernelspec": {
   "display_name": ".numpy",
   "language": "python",
   "name": "python3"
  },
  "language_info": {
   "codemirror_mode": {
    "name": "ipython",
    "version": 3
   },
   "file_extension": ".py",
   "mimetype": "text/x-python",
   "name": "python",
   "nbconvert_exporter": "python",
   "pygments_lexer": "ipython3",
   "version": "3.10.5"
  },
  "orig_nbformat": 4
 },
 "nbformat": 4,
 "nbformat_minor": 2
}
