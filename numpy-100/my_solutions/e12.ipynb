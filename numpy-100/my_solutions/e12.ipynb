{
 "cells": [
  {
   "cell_type": "code",
   "execution_count": 2,
   "metadata": {},
   "outputs": [],
   "source": [
    "import numpy as np"
   ]
  },
  {
   "cell_type": "code",
   "execution_count": null,
   "metadata": {},
   "outputs": [],
   "source": [
    "#  np.random.randint(1, 5, size=(4, 4))\n"
   ]
  },
  {
   "cell_type": "code",
   "execution_count": null,
   "metadata": {},
   "outputs": [],
   "source": [
    "# k = np.random.random ([3,4]) * 10"
   ]
  },
  {
   "cell_type": "code",
   "execution_count": null,
   "metadata": {},
   "outputs": [],
   "source": [
    "# a = np.random.randint(100, size = (5,4)) #a is a variable(object)"
   ]
  },
  {
   "cell_type": "code",
   "execution_count": 3,
   "metadata": {},
   "outputs": [],
   "source": [
    "a = np.random.randint(1,101,size=(3,3,3))"
   ]
  },
  {
   "cell_type": "code",
   "execution_count": 4,
   "metadata": {},
   "outputs": [
    {
     "data": {
      "text/plain": [
       "array([[[ 24,  72,  98],\n",
       "        [ 67,   3,   7],\n",
       "        [ 94,  36,  24]],\n",
       "\n",
       "       [[ 77,  23, 100],\n",
       "        [ 14,  26,  83],\n",
       "        [ 33,  14,  84]],\n",
       "\n",
       "       [[ 90,  77,  17],\n",
       "        [ 10,  15,  16],\n",
       "        [ 71,  11,  87]]])"
      ]
     },
     "execution_count": 4,
     "metadata": {},
     "output_type": "execute_result"
    }
   ],
   "source": [
    "a"
   ]
  },
  {
   "cell_type": "code",
   "execution_count": 7,
   "metadata": {},
   "outputs": [],
   "source": [
    "b = np.random.random([3,3,3])"
   ]
  },
  {
   "cell_type": "code",
   "execution_count": 8,
   "metadata": {},
   "outputs": [
    {
     "data": {
      "text/plain": [
       "array([[[0.2099961 , 0.96951166, 0.57605822],\n",
       "        [0.87384377, 0.2943517 , 0.10149685],\n",
       "        [0.11101777, 0.27791435, 0.85511862]],\n",
       "\n",
       "       [[0.93382173, 0.20715069, 0.57060796],\n",
       "        [0.53736813, 0.79342063, 0.15933061],\n",
       "        [0.07881107, 0.86379365, 0.62298666]],\n",
       "\n",
       "       [[0.31271475, 0.71800868, 0.42482516],\n",
       "        [0.81328996, 0.60133904, 0.481886  ],\n",
       "        [0.4250658 , 0.46810993, 0.73174101]]])"
      ]
     },
     "execution_count": 8,
     "metadata": {},
     "output_type": "execute_result"
    }
   ],
   "source": [
    "b"
   ]
  },
  {
   "cell_type": "code",
   "execution_count": 9,
   "metadata": {},
   "outputs": [],
   "source": [
    "c = np.random.random([3,3,3])*100"
   ]
  },
  {
   "cell_type": "code",
   "execution_count": 10,
   "metadata": {},
   "outputs": [
    {
     "data": {
      "text/plain": [
       "array([[[39.69981319, 97.09841151, 57.69987941],\n",
       "        [80.19889726, 76.74657697, 62.18408582],\n",
       "        [14.12338794, 32.49630217, 60.69212574]],\n",
       "\n",
       "       [[14.13509936, 50.80110785, 75.46294125],\n",
       "        [ 8.58657581, 33.45606207, 80.01161204],\n",
       "        [94.9507764 , 42.81537763, 44.98699366]],\n",
       "\n",
       "       [[24.20880389, 56.90653658, 98.69628216],\n",
       "        [ 0.91840965, 92.54417898, 68.96916751],\n",
       "        [44.96895145, 93.52168748,  9.33332493]]])"
      ]
     },
     "execution_count": 10,
     "metadata": {},
     "output_type": "execute_result"
    }
   ],
   "source": [
    "c"
   ]
  }
 ],
 "metadata": {
  "kernelspec": {
   "display_name": ".numpy",
   "language": "python",
   "name": "python3"
  },
  "language_info": {
   "codemirror_mode": {
    "name": "ipython",
    "version": 3
   },
   "file_extension": ".py",
   "mimetype": "text/x-python",
   "name": "python",
   "nbconvert_exporter": "python",
   "pygments_lexer": "ipython3",
   "version": "3.10.5"
  },
  "orig_nbformat": 4
 },
 "nbformat": 4,
 "nbformat_minor": 2
}
